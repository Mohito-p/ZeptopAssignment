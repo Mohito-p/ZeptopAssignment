{
 "cells": [
  {
   "cell_type": "code",
   "execution_count": null,
   "metadata": {
    "vscode": {
     "languageId": "plaintext"
    }
   },
   "outputs": [],
   "source": [
    "import pandas as pd\n",
    "import numpy as np\n",
    "import matplotlib.pyplot as plt\n",
    "import seaborn as sns\n",
    "from sklearn.metrics.pairwise import cosine_similarity\n",
    "from sklearn.preprocessing import StandardScaler\n",
    "from sklearn.cluster import KMeans\n",
    "from sklearn.metrics import davies_bouldin_score"
   ]
  },
  {
   "cell_type": "code",
   "execution_count": null,
   "metadata": {
    "vscode": {
     "languageId": "plaintext"
    }
   },
   "outputs": [],
   "source": [
    "customers = pd.read_csv(\"Customers.csv\")\n",
    "products = pd.read_csv(\"Products.csv\")\n",
    "transactions = pd.read_csv(\"Transactions.csv\")"
   ]
  },
  {
   "cell_type": "code",
   "execution_count": null,
   "metadata": {
    "vscode": {
     "languageId": "plaintext"
    }
   },
   "outputs": [],
   "source": [
    "def clustering():\n",
    "    # Feature engineering\n",
    "    customer_data = transactions.groupby('CustomerID').agg({\n",
    "        'TotalValue': 'sum',\n",
    "        'Quantity': 'sum',\n",
    "        'ProductID': 'nunique'\n",
    "    }).reset_index()\n",
    "\n",
    "    # Scaling features\n",
    "    scaler = StandardScaler()\n",
    "    scaled_data = scaler.fit_transform(customer_data.drop('CustomerID', axis=1))\n",
    "\n",
    "    # K-Means Clustering\n",
    "    kmeans = KMeans(n_clusters=4, random_state=42)\n",
    "    customer_data['Cluster'] = kmeans.fit_predict(scaled_data)\n",
    "\n",
    "    # Calculate DB Index\n",
    "    db_index = davies_bouldin_score(scaled_data, customer_data['Cluster'])\n",
    "    print(f\"Davies-Bouldin Index: {db_index}\")\n",
    "\n",
    "    # Visualization\n",
    "    plt.figure(figsize=(10, 6))\n",
    "    sns.scatterplot(x=scaled_data[:, 0], y=scaled_data[:, 1], hue=customer_data['Cluster'], palette='viridis')\n",
    "    plt.title(\"Customer Segmentation\")\n",
    "    plt.show()\n",
    "\n",
    "    # Save cluster data\n",
    "    customer_data.to_csv('Mohit_Chaudhary_Clustering.csv', index=False)\n",
    "\n",
    "clustering()"
   ]
  }
 ],
 "metadata": {
  "language_info": {
   "name": "python"
  }
 },
 "nbformat": 4,
 "nbformat_minor": 2
}
