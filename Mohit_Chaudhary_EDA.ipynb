{
 "cells": [
  {
   "cell_type": "code",
   "execution_count": null,
   "metadata": {
    "vscode": {
     "languageId": "plaintext"
    }
   },
   "outputs": [],
   "source": [
    "import pandas as pd\n",
    "import numpy as np\n",
    "import matplotlib.pyplot as plt\n",
    "import seaborn as sns\n",
    "from sklearn.metrics.pairwise import cosine_similarity\n",
    "from sklearn.preprocessing import StandardScaler\n",
    "from sklearn.cluster import KMeans\n",
    "from sklearn.metrics import davies_bouldin_score"
   ]
  },
  {
   "cell_type": "code",
   "execution_count": null,
   "metadata": {
    "vscode": {
     "languageId": "plaintext"
    }
   },
   "outputs": [],
   "source": [
    "customers = pd.read_csv(\"Customers.csv\")\n",
    "products = pd.read_csv(\"Products.csv\")\n",
    "transactions = pd.read_csv(\"Transactions.csv\")"
   ]
  },
  {
   "cell_type": "code",
   "execution_count": null,
   "metadata": {
    "vscode": {
     "languageId": "plaintext"
    }
   },
   "outputs": [],
   "source": [
    "def eda():\n",
    "    print(\"Customers Dataset:\")\n",
    "    print(customers.info())\n",
    "    print(customers.describe())\n",
    "    print(\"\\nProducts Dataset:\")\n",
    "    print(products.info())\n",
    "    print(products.describe())\n",
    "    print(\"\\nTransactions Dataset:\")\n",
    "    print(transactions.info())\n",
    "    print(transactions.describe())\n",
    "\n",
    "    # Visualizations\n",
    "    plt.figure(figsize=(10, 6))\n",
    "    sns.countplot(x='Region', data=customers)\n",
    "    plt.title(\"Customer Distribution by Region\")\n",
    "    plt.show()\n",
    "\n",
    "    plt.figure(figsize=(10, 6))\n",
    "    sns.barplot(x='Category', y='Price', data=products)\n",
    "    plt.title(\"Product Price by Category\")\n",
    "    plt.show()\n",
    "\n",
    "    transactions['TransactionDate'] = pd.to_datetime(transactions['TransactionDate'])\n",
    "    transactions['YearMonth'] = transactions['TransactionDate'].dt.to_period('M')\n",
    "\n",
    "    monthly_sales = transactions.groupby('YearMonth').sum()['TotalValue']\n",
    "    monthly_sales.plot(figsize=(12, 6), title='Monthly Sales Trend')\n",
    "    plt.ylabel(\"Total Sales Value\")\n",
    "    plt.show()\n",
    "\n",
    "eda()"
   ]
  }
 ],
 "metadata": {
  "language_info": {
   "name": "python"
  }
 },
 "nbformat": 4,
 "nbformat_minor": 2
}
