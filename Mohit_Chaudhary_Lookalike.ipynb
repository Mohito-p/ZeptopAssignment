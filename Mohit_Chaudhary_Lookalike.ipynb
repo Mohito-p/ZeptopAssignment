{
 "cells": [
  {
   "cell_type": "code",
   "execution_count": null,
   "metadata": {
    "vscode": {
     "languageId": "plaintext"
    }
   },
   "outputs": [],
   "source": [
    "import pandas as pd\n",
    "import numpy as np\n",
    "import matplotlib.pyplot as plt\n",
    "import seaborn as sns\n",
    "from sklearn.metrics.pairwise import cosine_similarity\n",
    "from sklearn.preprocessing import StandardScaler\n",
    "from sklearn.cluster import KMeans\n",
    "from sklearn.metrics import davies_bouldin_score"
   ]
  },
  {
   "cell_type": "code",
   "execution_count": null,
   "metadata": {
    "vscode": {
     "languageId": "plaintext"
    }
   },
   "outputs": [],
   "source": [
    "customers = pd.read_csv(\"Customers.csv\")\n",
    "products = pd.read_csv(\"Products.csv\")\n",
    "transactions = pd.read_csv(\"Transactions.csv\")"
   ]
  },
  {
   "cell_type": "code",
   "execution_count": null,
   "metadata": {
    "vscode": {
     "languageId": "plaintext"
    }
   },
   "outputs": [],
   "source": [
    "def lookalike_model():\n",
    "    # Merge datasets\n",
    "    merged_data = transactions.merge(customers, on='CustomerID').merge(products, on='ProductID')\n",
    "\n",
    "    # Generate customer profiles\n",
    "    customer_profiles = merged_data.groupby('CustomerID').agg({\n",
    "        'TotalValue': 'sum',\n",
    "        'Quantity': 'sum',\n",
    "        'Region': lambda x: x.mode()[0]\n",
    "    }).reset_index()\n",
    "\n",
    "    # Encode categorical features\n",
    "    customer_profiles = pd.get_dummies(customer_profiles, columns=['Region'])\n",
    "\n",
    "    # Calculate similarity\n",
    "    similarity_matrix = cosine_similarity(customer_profiles.drop(['CustomerID'], axis=1))\n",
    "\n",
    "    # Get lookalikes\n",
    "    lookalikes = {}\n",
    "    for i, customer_id in enumerate(customer_profiles['CustomerID'][:20]):\n",
    "        scores = similarity_matrix[i]\n",
    "        similar_customers = sorted([(customer_profiles['CustomerID'][j], scores[j]) for j in range(len(scores)) if j != i], key=lambda x: -x[1])[:3]\n",
    "        lookalikes[customer_id] = similar_customers\n",
    "\n",
    "    # Save to CSV\n",
    "    lookalike_df = pd.DataFrame({\n",
    "        'CustomerID': list(lookalikes.keys()),\n",
    "        'Lookalikes': [str(l) for l in lookalikes.values()]\n",
    "    })\n",
    "    lookalike_df.to_csv('Mohit_Chaudhary_Lookalike.csv', index=False)\n",
    "\n",
    "lookalike_model()"
   ]
  }
 ],
 "metadata": {
  "language_info": {
   "name": "python"
  }
 },
 "nbformat": 4,
 "nbformat_minor": 2
}
